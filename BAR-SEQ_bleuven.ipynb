{
 "cells": [
  {
   "cell_type": "markdown",
   "metadata": {},
   "source": [
    "## Import modules and relevant files"
   ]
  },
  {
   "cell_type": "code",
   "execution_count": 1,
   "metadata": {
    "collapsed": false
   },
   "outputs": [
    {
     "name": "stdout",
     "output_type": "stream",
     "text": [
      "importing modules  \n"
     ]
    }
   ],
   "source": [
    "print 'importing modules  '\n",
    "import os\n",
    "import subprocess\n",
    "from datetime import datetime as time\n",
    "import pandas as pd\n",
    "import matplotlib.pyplot as plt\n",
    "from collections import Counter\n",
    "from Bio.Seq import Seq\n",
    "%matplotlib inline\n",
    "\n",
    "### UPDATE\n",
    "sequence_file = \"./.fastq.gz\"\n",
    "\n",
    "sequence_file_name = \"./\""
   ]
  },
  {
   "cell_type": "markdown",
   "metadata": {},
   "source": [
    "## Extracting primer sequences and barcodes from the reference files"
   ]
  },
  {
   "cell_type": "code",
   "execution_count": 2,
   "metadata": {
    "collapsed": false
   },
   "outputs": [
    {
     "name": "stdout",
     "output_type": "stream",
     "text": [
      "116\n",
      "AGGTCTCTATGAACTTGCGCTCAATTCCCGT\n"
     ]
    }
   ],
   "source": [
    "\n",
    "\n",
    "#CCATCTCATCCCTGCGTGTCTCCGACTCAG ATGACTCAGT GATGTCCACGAGGTCTCT\n",
    "#                    TCCGACTCAG ATGACTCAGT GATGTCCACGAGGTCTCT   [20:]\n",
    "#                    TCCGACTCAG ATGACTCAGT GATGTCCACG           [20:50]\n",
    "#CCATCTCATCCCTGCGTGTCTCCGACTCAG ATAGCAGTGC GATGTCCACGAGGTCTCT\n",
    "#CCATCTCATCCCTGCGTGTCTCCGACTCAG ACGATCTATC GATGTCCACGAGGTCTCT\n",
    "#CCATCTCATCCCTGCGTGTCTCCGACTCAG AGCATGTCAT GATGTCCACGAGGTCTCT\n",
    "#CCATCTCATCCCTGCGTGTCTCCGACTCAG CGAGTATGAT GATGTCCACGAGGTCTCT\n",
    "\n",
    "#                               ACGATCTATC GATGTCCACGAGGTCTCTATGAACTTGCGCTCAATTCCCGTATGCTGCAGGTCGACGGATCCCCGGGTTAATTAAGGCGCGCCAGATCTGTTTAGCTATAGTGTGC\n",
    "#                                                                                   GCGCCAGATCTGTTTAGCACTGAGTCATATCACCGACTGCCCATAGAGAGGAAAGCGG\n",
    "\n",
    "#ATGAACTTGCGCTCAATTCCCGTATGCTGCAGGTCGACGGATCCCCGGGTTAATTAAGGCGCGCCAGATCTGTTTAGC TATAGTGTGC\n",
    "#                                                            GCGCCAGATCTGTTTAGC ACTGAGTCAT ATCACCGACTGCCCATAGAGAGGAAAGCGG\n",
    "#                                                            GCGCCAGATCTGTTTAGC GAGCTATATC ATCACCGACTGCCCATAGAGAGGAAAGCGG\n",
    "#                                                                                 GCTATATC ATCACCGACTGCCCATAGAGAG  [20:50]\n",
    "#                                                                      TGTTTAGC GAGCTATATC ATCACCGACTGC            [10:40]\n",
    "#                                                                    TCTGTTTAGC GAGCTATATC ATCACCGACT              [8:38]\n",
    "# ACGATCTATC                                                                                                  TATAGTGTGC\n",
    "# ACGATCTATC GATGTCCACGAGGTCTCT ATGAACTTGCGCTCAATTCC CGTATGCTGCAGGTCGACGGATCCCCGGGTTAATTAAGGCGCGCCAGATCTGTTTAGC TATAGTGTGC\n",
    "#                               ATGAACTTGCGCTCAATTCC\n",
    "# \n",
    "\n",
    "#print Seq(index_seq_dict['7|21|1|D1|A9'][1]).reverse_complement()[8:38]\n",
    "\n",
    "test_seq = 'ACGATCTATCGATGTCCACGAGGTCTCTATGAACTTGCGCTCAATTCCCGTATGCTGCAGGTCGACGGATCCCCGGGTTAATTAAGGCGCGCCAGATCTGTTTAGCTATAGTGTGC'\n",
    "\n",
    "strain_barcode_up_flank = 'CGAGGTCTCT'\n",
    "\n",
    "strain_barcode_down_flank = 'CGTATGCTGC'\n",
    "\n",
    "\n",
    "\n",
    "\n",
    "###########################  CGAGGTCTCTATGAACTTGCGCTCAATTCCCGTATGCTGC\n",
    "print len('ACGATCTATCGATGTCCACGAGGTCTCTATGAACTTGCGCTCAATTCCCGTATGCTGCAGGTCGACGGATCCCCGGGTTAATTAAGGCGCGCCAGATCTGTTTAGCTATAGTGTGC')\n",
    "# min read len will be 116\n",
    "print 'ACGATCTATCGATGTCCACGAGGTCTCTATGAACTTGCGCTCAATTCCCGTATGCTGCAGGTCGACGGATCCCCGGGTTAATTAAGGCGCGCCAGATCTGTTTAGCTATAGTGTGC'[20:51]"
   ]
  },
  {
   "cell_type": "code",
   "execution_count": 3,
   "metadata": {
    "collapsed": false
   },
   "outputs": [
    {
     "name": "stdout",
     "output_type": "stream",
     "text": [
      "[(('C8', 'A7'), '2|16|1'), (('C9', 'A4'), '3|5|2'), (('D4', 'A8'), '10|16|2'), (('D2', 'A10'), '8|21|2'), (('C10', 'A6'), '4|10|2'), (('C11', 'A4'), '5|5|2'), (('D5', 'A5'), '11|10|1'), (('D4', 'A5'), '10|10|1'), (('C10', 'A9'), '4|21|1'), (('D5', 'A8'), '11|16|2'), (('C12', 'A8'), '6|16|2'), (('C7', 'A4'), '1|5|2'), (('C8', 'A4'), '2|5|2'), (('C9', 'A7'), '3|16|1'), (('C10', 'A3'), '4|5|1'), (('C11', 'A7'), '5|16|1'), (('C11', 'A10'), '5|21|2'), (('C12', 'A5'), '6|10|1'), (('D7', 'A4'), '12|5|2'), (('C7', 'A10'), '1|21|2'), (('D7', 'A7'), '12|16|1'), (('D3', 'A5'), '9|10|1'), (('C8', 'A10'), '2|21|2'), (('D8', 'A12'), '2|0|1'), (('D1', 'A8'), '7|16|2'), (('C12', 'A6'), '6|10|2'), (('D7', 'A10'), '12|21|2'), (('D2', 'A7'), '8|16|1'), (('D3', 'A6'), '9|10|2'), (('D1', 'A6'), '7|10|2'), (('C12', 'A3'), '6|5|1'), (('C8', 'A8'), '2|16|2'), (('C9', 'A3'), '3|5|1'), (('C7', 'A9'), '1|21|1'), (('C10', 'A7'), '4|16|1'), (('C11', 'A3'), '5|5|1'), (('D5', 'A6'), '11|10|2'), (('D4', 'A4'), '10|5|2'), (('D5', 'A9'), '11|21|1'), (('C12', 'A9'), '6|21|1'), (('C7', 'A7'), '1|16|1'), (('D7', 'A8'), '12|16|2'), (('C8', 'A5'), '2|10|1'), (('D2', 'A9'), '8|21|1'), (('C9', 'A6'), '3|10|2'), (('C11', 'A9'), '5|21|1'), (('C10', 'A4'), '4|5|2'), (('C11', 'A6'), '5|10|2'), (('D5', 'A3'), '11|5|1'), (('D4', 'A7'), '10|16|1'), (('D4', 'A10'), '10|21|2'), (('D7', 'A5'), '12|10|1'), (('D2', 'A3'), '8|5|1'), (('C9', 'A9'), '3|21|1'), (('D8', 'A11'), '1|0|1'), (('C10', 'A10'), '4|21|2'), (('C12', 'A7'), '6|16|1'), (('D7', 'A6'), '12|10|2'), (('D2', 'A6'), '8|10|2'), (('D1', 'A10'), '7|21|2'), (('D9', 'A12'), '2|0|2'), (('D3', 'A7'), '9|16|1'), (('D1', 'A7'), '7|16|1'), (('D9', 'A11'), '1|0|2'), (('C7', 'A3'), '1|5|1'), (('D7', 'A3'), '12|5|1'), (('C8', 'A9'), '2|21|1'), (('D2', 'A5'), '8|10|1'), (('D1', 'A9'), '7|21|1'), (('D3', 'A8'), '9|16|2'), (('D1', 'A4'), '7|5|2'), (('D5', 'A7'), '11|16|1'), (('D4', 'A3'), '10|5|1'), (('C7', 'A6'), '1|10|2'), (('C8', 'A6'), '2|10|2'), (('D2', 'A8'), '8|16|2'), (('C9', 'A5'), '3|10|1'), (('C11', 'A8'), '5|16|2'), (('D4', 'A9'), '10|21|1'), (('C10', 'A5'), '4|10|1'), (('C11', 'A5'), '5|10|1'), (('D5', 'A4'), '11|5|2'), (('D4', 'A6'), '10|10|2'), (('C10', 'A8'), '4|16|2'), (('C7', 'A5'), '1|10|1'), (('C8', 'A3'), '2|5|1'), (('D3', 'A3'), '9|5|1'), (('D1', 'A3'), '7|5|1'), (('D5', 'A10'), '11|21|2'), (('C12', 'A4'), '6|5|2'), (('C7', 'A8'), '1|16|2'), (('D3', 'A4'), '9|5|2'), (('D7', 'A9'), '12|21|1'), (('C9', 'A8'), '3|16|2'), (('C12', 'A10'), '6|21|2'), (('C9', 'A10'), '3|21|2'), (('D2', 'A4'), '8|5|2'), (('D3', 'A9'), '9|21|1'), (('D1', 'A5'), '7|10|1'), (('D3', 'A10'), '9|21|2')]\n",
      "{'D5': 'TCCGACTCAGCGAGTATGATGATGTCCACG', 'D2': 'TCCGACTCAGATGACTCAGTGATGTCCACG', 'D9': 'TCCGACTCAGCTGTAGTCAGGATGTCCACG', 'D4': 'TCCGACTCAGCGAGATCTCTGATGTCCACG', 'C9': 'TCCGACTCAGAGCATGTCATGATGTCCACG', 'C8': 'TCCGACTCAGACGATCTATCGATGTCCACG', 'D8': 'TCCGACTCAGCTACTCACTAGATGTCCACG', 'D7': 'TCCGACTCAGCATAGCTATCGATGTCCACG', 'C12': 'TCCGACTCAGATACTGACGCGATGTCCACG', 'C11': 'TCCGACTCAGAGTCTGTACGGATGTCCACG', 'C10': 'TCCGACTCAGAGCTGACACAGATGTCCACG', 'C7': 'TCCGACTCAGAGATAGTGCTGATGTCCACG', 'D3': 'TCCGACTCAGCGTCATGATAGATGTCCACG', 'D1': 'TCCGACTCAGATAGCAGTGCGATGTCCACG'}\n",
      "{'A11': 'TCTGTTTAGCACGCAGCATCATCACCGACT', 'A10': 'TCTGTTTAGCATCAGAGATCATCACCGACT', 'A12': 'TCTGTTTAGCCTGTCACATCATCACCGACT', 'A3': 'TCTGTTTAGCCTGCATCTCTATCACCGACT', 'A5': 'TCTGTTTAGCACTGAGTCATATCACCGACT', 'A4': 'TCTGTTTAGCATCAGCACGTATCACCGACT', 'A7': 'TCTGTTTAGCTATCATGACGATCACCGACT', 'A6': 'TCTGTTTAGCACGATGTACGATCACCGACT', 'A9': 'TCTGTTTAGCGAGCTATATCATCACCGACT', 'A8': 'TCTGTTTAGCCGACGAGTAGATCACCGACT'}\n"
     ]
    }
   ],
   "source": [
    "indexes_for_libraries = './Barcodes/indexes_for_libraries.csv'\n",
    "\n",
    "\n",
    "index_lib_dict = {}\n",
    "\n",
    "lib_index_by_tuple = {}\n",
    "\n",
    "for_index_seq ={}\n",
    "rev_index_seq ={}\n",
    "\n",
    "\n",
    "with open(indexes_for_libraries, 'r') as source:\n",
    "    \n",
    "    next(source)\n",
    "    \n",
    "    for line in source:\n",
    "        \n",
    "        line = line.strip('\\n')\n",
    "        line = line.split(',')\n",
    "        \n",
    "        sample = '|'.join([line[0], line[1], line[2]])\n",
    "        indexes = [line[3], line[5]]\n",
    "        \n",
    "        index_lib_dict[sample] = indexes\n",
    "        \n",
    "        if line[3] not in for_index_seq.keys():\n",
    "            \n",
    "            for_index_seq[line[3]] = line[4][20:50]\n",
    "            \n",
    "        if line[5] not in rev_index_seq.keys():\n",
    "            \n",
    "            rev_index_seq[line[5]] = str(Seq(line[6]).reverse_complement())[8:38]\n",
    "            \n",
    "            \n",
    "        lib_index_by_tuple[tuple(indexes)] = sample\n",
    "        \n",
    "        \n",
    "       \n",
    "        \n",
    "print lib_index_by_tuple.items()\n",
    "#looks good\n",
    "\n",
    "print for_index_seq\n",
    "print rev_index_seq"
   ]
  },
  {
   "cell_type": "markdown",
   "metadata": {},
   "source": [
    "## For and Rev Indexes"
   ]
  },
  {
   "cell_type": "code",
   "execution_count": 4,
   "metadata": {
    "collapsed": true
   },
   "outputs": [],
   "source": [
    "for_indexes = './for_indexes.fa'\n",
    "rev_indexes = './rev_indexes.fa'\n",
    "\n",
    "\n",
    "\n",
    "\n",
    "with open(for_indexes, 'w') as output:\n",
    "    \n",
    "    for f_index in for_index_seq.keys():\n",
    "        \n",
    "        fasta_header = '>'+ f_index + '\\n'\n",
    "        fasta_seq =  for_index_seq[f_index] + '\\n'\n",
    "\n",
    "        output.write(fasta_header)\n",
    "        output.write(fasta_seq)\n",
    "\n",
    "        \n",
    "\n",
    "\n",
    "with open(rev_indexes, 'w') as output:\n",
    "    \n",
    "    for r_index in rev_index_seq.keys():\n",
    "        \n",
    "        fasta_header = '>'+ r_index + '\\n'\n",
    "        fasta_seq =  rev_index_seq[r_index] + '\\n'\n",
    "\n",
    "        output.write(fasta_header)\n",
    "        output.write(fasta_seq)\n",
    "        \n",
    "        \n",
    "        "
   ]
  },
  {
   "cell_type": "markdown",
   "metadata": {},
   "source": [
    "## strain barcodes"
   ]
  },
  {
   "cell_type": "code",
   "execution_count": 21,
   "metadata": {
    "collapsed": true
   },
   "outputs": [],
   "source": [
    "strain_fasta = './strain_barcodes.fa'\n",
    "\n",
    "strain_bc_key = './Barcodes/Strains_pool_light_noNfmt.csv'\n",
    "\n",
    "with open(strain_fasta, 'w') as output:\n",
    "    \n",
    "    with open(strain_bc_key, 'r') as source:\n",
    "\n",
    "                next(source)\n",
    "\n",
    "                for line in source:\n",
    "\n",
    "                    line_data = line.strip('\\n').split(';')\n",
    "\n",
    "                    guide_name = '|'.join([line_data[0], line_data[1], line_data[2]])\n",
    "                    guide_seq = line_data[3]\n",
    "\n",
    "                    fasta_header = '>'+ guide_name + '\\n'\n",
    "                    fasta_seq = strain_barcode_up_flank + guide_seq + strain_barcode_down_flank +'\\n'\n",
    "\n",
    "                    output.write(fasta_header)\n",
    "                    output.write(fasta_seq)\n"
   ]
  },
  {
   "cell_type": "code",
   "execution_count": 35,
   "metadata": {
    "collapsed": false
   },
   "outputs": [
    {
     "ename": "SyntaxError",
     "evalue": "invalid syntax (<ipython-input-35-f0b4f949ed2a>, line 4)",
     "output_type": "error",
     "traceback": [
      "\u001b[1;36m  File \u001b[1;32m\"<ipython-input-35-f0b4f949ed2a>\"\u001b[1;36m, line \u001b[1;32m4\u001b[0m\n\u001b[1;33m    bowtie-build -f -r -o 4 for_indexes.fa bleuven_ION_nov2018_for_indexes\u001b[0m\n\u001b[1;37m                          ^\u001b[0m\n\u001b[1;31mSyntaxError\u001b[0m\u001b[1;31m:\u001b[0m invalid syntax\n"
     ]
    }
   ],
   "source": [
    "# command line calls\n",
    "\n",
    "# for indexes\n",
    "bowtie-build -f -r -o 4 for_indexes.fa bleuven_ION_nov2018_for_indexes\n",
    "\n",
    "# rev indexes\n",
    "bowtie-build -f -r -o 4 rev_indexes.fa bleuven_ION_nov2018_rev_indexes\n",
    "\n",
    "# guides\n",
    "bowtie-build -f -r -o 4 strain_barcodes.fa bleuven_ION_nov2018_strain_indexes"
   ]
  },
  {
   "cell_type": "code",
   "execution_count": null,
   "metadata": {
    "collapsed": true
   },
   "outputs": [],
   "source": [
    "fastqc A.Dube_Cabsoil_p01_c01.fastq.gz\n",
    "\n",
    "java -jar trimmomatic-0.36.jar SE -threa 6 -phred33 /home/phdes74/path_to_Dropbox/lab_manuscripts/Bleuven_ION/A.Dube_Cabsoil_p01_c01.fastq.gz /home/phdes74/path_to_Dropbox/lab_manuscripts/Bleuven_ION/A.Dube_Cabsoil_p01_c01_trim_110.fastq.gz MINLEN:115 CROP:115\n",
    "      \n",
    "fastqc A.Dube_Cabsoil_p01_c01_trim_110.fastq.gz\n"
   ]
  },
  {
   "cell_type": "code",
   "execution_count": 33,
   "metadata": {
    "collapsed": false
   },
   "outputs": [
    {
     "name": "stdout",
     "output_type": "stream",
     "text": [
      "bowtie -t -v 0 -p 6 -k 1 --trim3 97 --norc -u 40000000 bleuven_ION_nov2018_for_indexes A.Dube_Cabsoil_p01_c01_trim_110.fastq index_for_1.txt\n",
      "bowtie -t -v 0 -p 6 -k 1 --trim5 100 --norc -u 40000000 bleuven_ION_nov2018_rev_indexes A.Dube_Cabsoil_p01_c01_trim_110.fastq index_rev_1.txt\n",
      "bowtie -t -v 0 -p 6 -k 1 --trim3 70 --trim5 19 --norc -m 1 -u 40000000 bleuven_ION_nov2018_strain_indexes A.Dube_Cabsoil_p01_c01_trim_110.fastq strain_bc_1.txt\n"
     ]
    }
   ],
   "source": [
    "\n",
    "\n",
    "index_for_align_param = 'bowtie -t -v 0 -p 6 -k 1 --trim3 97 --norc -u 40000000 bleuven_ION_nov2018_for_indexes '\n",
    "# parameters for forward index alignments. Based on optimization work done in BAR-SEQ notebook\n",
    "index_for_align_output = 'index_for_1.txt'\n",
    "# alignment output filepath as string\n",
    "index_for_align_call = index_for_align_param + 'A.Dube_Cabsoil_p01_c01_trim_110.fastq' + ' ' + index_for_align_output\n",
    "\n",
    "print index_for_align_call\n",
    "\n",
    "# alignement call as a string\n",
    "subprocess.check_output(index_for_align_call, shell = True)\n",
    "# performs the alignment\n",
    "\n",
    "\n",
    "\n",
    "index_rev_align_param = 'bowtie -t -v 0 -p 6 -k 1 --trim5 100 --norc -u 40000000 bleuven_ION_nov2018_rev_indexes '\n",
    "# parameters for reverse index alignments. Based on optimization work done in BAR-SEQ notebook\n",
    "index_rev_align_output = 'index_rev_1.txt'\n",
    "# alignment output filepath as string\n",
    "index_rev_align_call = index_rev_align_param + 'A.Dube_Cabsoil_p01_c01_trim_110.fastq' + ' ' + index_rev_align_output\n",
    "# alignement call as a string\n",
    "subprocess.check_output(index_rev_align_call, shell = True)\n",
    "# performs the alignment\n",
    "\n",
    "print index_rev_align_call\n",
    "\n",
    "\n",
    "\n",
    "guide_align_param = 'bowtie -t -v 0 -p 6 -k 1 --trim3 70 --trim5 19 --norc -m 1 -u 40000000 bleuven_ION_nov2018_strain_indexes '\n",
    "# parameters for perfect guide alignments. Based on optimization work done in BAR-SEQ notebook\n",
    "bc_align_output = 'strain_bc_1.txt'\n",
    "# alignment output filepath as string\n",
    "bc_align_call = guide_align_param + 'A.Dube_Cabsoil_p01_c01_trim_110.fastq' + ' ' + bc_align_output\n",
    "# alignement call as a string\n",
    "subprocess.check_output(bc_align_call, shell = True)\n",
    "# performs the alignment\n",
    "\n",
    "print bc_align_call"
   ]
  },
  {
   "cell_type": "code",
   "execution_count": 34,
   "metadata": {
    "collapsed": false
   },
   "outputs": [
    {
     "name": "stdout",
     "output_type": "stream",
     "text": [
      "bowtie -t -v 0 -p 6 -k 1 --trim3 70 --trim5 19 --norc -m 1 -u 40000000 bleuven_ION_nov2018_strain_indexes A.Dube_Cabsoil_p01_c01_trim_110.fastq strain_bc_1.txt\n"
     ]
    }
   ],
   "source": [
    "print bc_align_call"
   ]
  },
  {
   "cell_type": "code",
   "execution_count": 35,
   "metadata": {
    "collapsed": true
   },
   "outputs": [],
   "source": [
    "guide_counts_counter_dict = {}\n",
    "# a dict that will hold one instance of a Counter() object for each library in the experiment (20 total). Each of\n",
    "# those Counter objects will be used the count the number of reads for each guide in each library based the bowtie\n",
    "# alignment data\n",
    "\n",
    "\n",
    "for lib in index_lib_dict.keys():\n",
    "    # loops through the samples in the experiment\n",
    "    \n",
    "    guide_counts_counter_dict[lib] = Counter()\n",
    "    # creates an empty Counter() for guide count\n",
    "\n",
    "bc_align_output = 'strain_bc_1.txt'\n",
    "index_for_align_output = 'index_for_1.txt'\n",
    "index_rev_align_output = 'index_rev_1.txt'\n",
    "\n",
    "\n",
    "    "
   ]
  },
  {
   "cell_type": "code",
   "execution_count": 36,
   "metadata": {
    "collapsed": false
   },
   "outputs": [
    {
     "name": "stdout",
     "output_type": "stream",
     "text": [
      "38344726\n",
      "35515990\n",
      "34085271\n",
      "35678281\n"
     ]
    }
   ],
   "source": [
    "index_found_for = {}\n",
    "index_found_rev = {}\n",
    "# empty containers that will hold    read_name: index    data pairs for the forward and reverse reads that\n",
    "# had valid alignments\n",
    "\n",
    "\n",
    "with open(index_for_align_output, 'r') as for_index_positives:\n",
    "    for line in for_index_positives:\n",
    "        # opens P1 index alignment pack file and loops through lines\n",
    "\n",
    "        line = line.split('\\t')\n",
    "        # split line to extract data\n",
    "        read_name = line[0]\n",
    "        # Only keep the cluster coordinates and run associated info, not the illumina annotations in the read \n",
    "        # name. See http://support.illumina.com/content/dam/illumina-support/help/BaseSpaceHelp_v2/Content/Vault/\n",
    "        #           Informatics/Sequencing_Analysis/BS/swSEQ_mBS_FASTQFiles.htm\n",
    "        # For info on illumina read name convention\n",
    "        index_found_for[read_name] = line[2]\n",
    "        # add read P1 index to dict\n",
    "\n",
    "print len(index_found_for.keys())\n",
    "# log entry: number of reads with valid P1 index alignments\n",
    "\n",
    "with open(index_rev_align_output, 'r') as rev_index_positives:\n",
    "    for line in rev_index_positives:\n",
    "        # opens P2 index alignment pack file and loops through lines\n",
    "\n",
    "        line = line.split('\\t')\n",
    "        # split line to extract data\n",
    "        read_name = line[0]\n",
    "        # Only keep the cluster coordinates and run associated info\n",
    "        index_found_rev[read_name] = line[2]\n",
    "        # add read P2 index to dict\n",
    "\n",
    "print len(index_found_rev.keys())\n",
    "# log entry: number of reads with valid P2 index alignments\n",
    "\n",
    "\n",
    "both_indexes = set(index_found_for.keys()) & set(index_found_rev.keys())\n",
    "print len(both_indexes)\n",
    "# Use the set data format to quickly id reads with valid alignments for both P1 and P2 indexes, and stores the\n",
    "# taht number for the read pack in the log\n",
    "\n",
    "del both_indexes\n",
    "\n",
    "\n",
    "\n",
    "\n",
    "barcode_match = {}\n",
    "# empty containers that will hold    read_name: guide    data pairs for the forward reads that had alignments\n",
    "# with 0 mismatches at the right location in the reference sequence set\n",
    "\n",
    "with open(bc_align_output, 'r') as matches:\n",
    "    for line in matches:\n",
    "        # opens gRNA alignment pack file and loops through lines\n",
    "\n",
    "        line = line.split('\\t')\n",
    "        # split line to extract data\n",
    "        read_name = line[0]\n",
    "        # Only keep the cluster coordinates and run associated info\n",
    "        guide = line[2]\n",
    "        # the guide for which a match was found\n",
    "\n",
    "        if int(line[3]) in range(0, 5):\n",
    "            # the alignment is at the right location in the guide sequence\n",
    "\n",
    "            barcode_match[read_name] = guide\n",
    "            # add read:guide to dict\n",
    "\n",
    "print len(barcode_match.keys())\n",
    "# adds the number of perfect matches found in the pack of reads\n",
    "\n",
    "\n",
    "\n"
   ]
  },
  {
   "cell_type": "code",
   "execution_count": 37,
   "metadata": {
    "collapsed": false
   },
   "outputs": [
    {
     "name": "stdout",
     "output_type": "stream",
     "text": [
      "30812839\n"
     ]
    }
   ],
   "source": [
    "indexes_and_guides = set(index_found_for.keys()) & set(index_found_rev.keys()) & set(barcode_match.keys())\n",
    "print len(indexes_and_guides)\n",
    "# uses sets in python to find the set of reads for which the P1, P2 and gRNA alignments were good\n"
   ]
  },
  {
   "cell_type": "code",
   "execution_count": 38,
   "metadata": {
    "collapsed": false
   },
   "outputs": [
    {
     "name": "stdout",
     "output_type": "stream",
     "text": [
      "[('C8', 'A7'), ('C9', 'A4'), ('D4', 'A8'), ('D2', 'A10'), ('C10', 'A6'), ('C11', 'A4'), ('D5', 'A5'), ('D4', 'A5'), ('C10', 'A9'), ('D5', 'A8'), ('C12', 'A8'), ('C7', 'A4'), ('C8', 'A4'), ('C9', 'A7'), ('C10', 'A3'), ('C11', 'A7'), ('C11', 'A10'), ('C12', 'A5'), ('D7', 'A4'), ('C7', 'A10'), ('D7', 'A7'), ('D3', 'A5'), ('C8', 'A10'), ('D8', 'A12'), ('D1', 'A8'), ('C12', 'A6'), ('D7', 'A10'), ('D2', 'A7'), ('D3', 'A6'), ('D1', 'A6'), ('C12', 'A3'), ('C8', 'A8'), ('C9', 'A3'), ('C7', 'A9'), ('C10', 'A7'), ('C11', 'A3'), ('D5', 'A6'), ('D4', 'A4'), ('D5', 'A9'), ('C12', 'A9'), ('C7', 'A7'), ('D7', 'A8'), ('C8', 'A5'), ('D2', 'A9'), ('C9', 'A6'), ('C11', 'A9'), ('C10', 'A4'), ('C11', 'A6'), ('D5', 'A3'), ('D4', 'A7'), ('D4', 'A10'), ('D7', 'A5'), ('D2', 'A3'), ('C9', 'A9'), ('D8', 'A11'), ('C10', 'A10'), ('C12', 'A7'), ('D7', 'A6'), ('D2', 'A6'), ('D1', 'A10'), ('D9', 'A12'), ('D3', 'A7'), ('D1', 'A7'), ('D9', 'A11'), ('C7', 'A3'), ('D7', 'A3'), ('C8', 'A9'), ('D2', 'A5'), ('D1', 'A9'), ('D3', 'A8'), ('D1', 'A4'), ('D5', 'A7'), ('D4', 'A3'), ('C7', 'A6'), ('C8', 'A6'), ('D2', 'A8'), ('C9', 'A5'), ('C11', 'A8'), ('D4', 'A9'), ('C10', 'A5'), ('C11', 'A5'), ('D5', 'A4'), ('D4', 'A6'), ('C10', 'A8'), ('C7', 'A5'), ('C8', 'A3'), ('D3', 'A3'), ('D1', 'A3'), ('D5', 'A10'), ('C12', 'A4'), ('C7', 'A8'), ('D3', 'A4'), ('D7', 'A9'), ('C9', 'A8'), ('C12', 'A10'), ('C9', 'A10'), ('D2', 'A4'), ('D3', 'A9'), ('D1', 'A5'), ('D3', 'A10')]\n"
     ]
    }
   ],
   "source": [
    "print lib_index_by_tuple.keys()\n",
    "\n",
    "correct_libs = set([x for x in lib_index_by_tuple.keys()])"
   ]
  },
  {
   "cell_type": "code",
   "execution_count": 39,
   "metadata": {
    "collapsed": false
   },
   "outputs": [
    {
     "name": "stdout",
     "output_type": "stream",
     "text": [
      "1737\n"
     ]
    }
   ],
   "source": [
    "chimera = 0\n",
    "\n",
    "for read in indexes_and_guides:\n",
    "    # loops through the reads tht passed the filter\n",
    "\n",
    "    for_i = index_found_for[read]\n",
    "    # gets the P1 index of the read\n",
    "\n",
    "    rev_i = index_found_rev[read]\n",
    "    # gets the P2 index of the read\n",
    "    \n",
    "    if tuple((for_i, rev_i)) in correct_libs:\n",
    "\n",
    "        lib = lib_index_by_tuple[tuple((for_i, rev_i))]\n",
    "        # gets the sample to which the read should be assigned based on P1, P2 combination\n",
    "\n",
    "        guide = barcode_match[read]\n",
    "        # gets the guide associated with the read\n",
    "\n",
    "        guide_counts_counter_dict[lib][guide] += 1\n",
    "        # a count for the guide detected in its specific sample\n",
    "        \n",
    "    else:\n",
    "        \n",
    "        chimera += 1 \n",
    "\n",
    "\n",
    "\n",
    "del index_found_for\n",
    "del index_found_rev\n",
    "del barcode_match\n",
    "\n",
    "print chimera"
   ]
  },
  {
   "cell_type": "code",
   "execution_count": 40,
   "metadata": {
    "collapsed": true
   },
   "outputs": [],
   "source": [
    "## for part 2 of reads"
   ]
  },
  {
   "cell_type": "code",
   "execution_count": 41,
   "metadata": {
    "collapsed": false
   },
   "outputs": [
    {
     "name": "stdout",
     "output_type": "stream",
     "text": [
      "bowtie -t -v 0 -p 5 -k 1 --trim3 97 --norc -s 40000000 bleuven_ION_nov2018_for_indexes A.Dube_Cabsoil_p01_c01_trim_110.fastq index_for_2.txt\n",
      "bowtie -t -v 0 -p 5 -k 1 --trim5 100 --norc -s 40000000 bleuven_ION_nov2018_rev_indexes A.Dube_Cabsoil_p01_c01_trim_110.fastq index_rev_2.txt\n",
      "bowtie -t -v 0 -p 5 -k 1 --trim3 70 --trim5 19 --norc -m 1 -s 40000000 bleuven_ION_nov2018_strain_indexes A.Dube_Cabsoil_p01_c01_trim_110.fastq strain_bc_2.txt\n"
     ]
    }
   ],
   "source": [
    "index_for_align_param = 'bowtie -t -v 0 -p 5 -k 1 --trim3 97 --norc -s 40000000 bleuven_ION_nov2018_for_indexes '\n",
    "# parameters for forward index alignments. Based on optimization work done in BAR-SEQ notebook\n",
    "index_for_align_output = 'index_for_2.txt'\n",
    "# alignment output filepath as string\n",
    "index_for_align_call = index_for_align_param + 'A.Dube_Cabsoil_p01_c01_trim_110.fastq' + ' ' + index_for_align_output\n",
    "\n",
    "print index_for_align_call\n",
    "\n",
    "# alignement call as a string\n",
    "subprocess.check_output(index_for_align_call, shell = True)\n",
    "# performs the alignment\n",
    "\n",
    "\n",
    "\n",
    "index_rev_align_param = 'bowtie -t -v 0 -p 5 -k 1 --trim5 100 --norc -s 40000000 bleuven_ION_nov2018_rev_indexes '\n",
    "# parameters for reverse index alignments. Based on optimization work done in BAR-SEQ notebook\n",
    "index_rev_align_output = 'index_rev_2.txt'\n",
    "# alignment output filepath as string\n",
    "index_rev_align_call = index_rev_align_param + 'A.Dube_Cabsoil_p01_c01_trim_110.fastq' + ' ' + index_rev_align_output\n",
    "# alignement call as a string\n",
    "subprocess.check_output(index_rev_align_call, shell = True)\n",
    "# performs the alignment\n",
    "\n",
    "print index_rev_align_call\n",
    "\n",
    "\n",
    "\n",
    "guide_align_param = 'bowtie -t -v 0 -p 5 -k 1 --trim3 70 --trim5 19 --norc -m 1 -s 40000000 bleuven_ION_nov2018_strain_indexes '\n",
    "# parameters for perfect guide alignments. Based on optimization work done in BAR-SEQ notebook\n",
    "bc_align_output = 'strain_bc_2.txt'\n",
    "# alignment output filepath as string\n",
    "bc_align_call = guide_align_param + 'A.Dube_Cabsoil_p01_c01_trim_110.fastq' + ' ' + bc_align_output\n",
    "# alignement call as a string\n",
    "subprocess.check_output(bc_align_call, shell = True)\n",
    "# performs the alignment\n",
    "\n",
    "print bc_align_call"
   ]
  },
  {
   "cell_type": "code",
   "execution_count": 42,
   "metadata": {
    "collapsed": false
   },
   "outputs": [
    {
     "name": "stdout",
     "output_type": "stream",
     "text": [
      "11520485\n",
      "10376682\n",
      "9957479\n",
      "10707082\n"
     ]
    }
   ],
   "source": [
    "bc_align_output = 'strain_bc_2.txt'\n",
    "index_for_align_output = 'index_for_2.txt'\n",
    "index_rev_align_output = 'index_rev_2.txt'\n",
    "\n",
    "index_found_for = {}\n",
    "index_found_rev = {}\n",
    "# empty containers that will hold    read_name: index    data pairs for the forward and reverse reads that\n",
    "# had valid alignments\n",
    "\n",
    "\n",
    "with open(index_for_align_output, 'r') as for_index_positives:\n",
    "    for line in for_index_positives:\n",
    "        # opens P1 index alignment pack file and loops through lines\n",
    "\n",
    "        line = line.split('\\t')\n",
    "        # split line to extract data\n",
    "        read_name = line[0]\n",
    "        # Only keep the cluster coordinates and run associated info, not the illumina annotations in the read \n",
    "        # name. See http://support.illumina.com/content/dam/illumina-support/help/BaseSpaceHelp_v2/Content/Vault/\n",
    "        #           Informatics/Sequencing_Analysis/BS/swSEQ_mBS_FASTQFiles.htm\n",
    "        # For info on illumina read name convention\n",
    "        index_found_for[read_name] = line[2]\n",
    "        # add read P1 index to dict\n",
    "\n",
    "print len(index_found_for.keys())\n",
    "# log entry: number of reads with valid P1 index alignments\n",
    "\n",
    "with open(index_rev_align_output, 'r') as rev_index_positives:\n",
    "    for line in rev_index_positives:\n",
    "        # opens P2 index alignment pack file and loops through lines\n",
    "\n",
    "        line = line.split('\\t')\n",
    "        # split line to extract data\n",
    "        read_name = line[0]\n",
    "        # Only keep the cluster coordinates and run associated info\n",
    "        index_found_rev[read_name] = line[2]\n",
    "        # add read P2 index to dict\n",
    "\n",
    "print len(index_found_rev.keys())\n",
    "# log entry: number of reads with valid P2 index alignments\n",
    "\n",
    "\n",
    "both_indexes = set(index_found_for.keys()) & set(index_found_rev.keys())\n",
    "print len(both_indexes)\n",
    "# Use the set data format to quickly id reads with valid alignments for both P1 and P2 indexes, and stores the\n",
    "# taht number for the read pack in the log\n",
    "\n",
    "del both_indexes\n",
    "\n",
    "\n",
    "\n",
    "\n",
    "barcode_match = {}\n",
    "# empty containers that will hold    read_name: guide    data pairs for the forward reads that had alignments\n",
    "# with 0 mismatches at the right location in the reference sequence set\n",
    "\n",
    "with open(bc_align_output, 'r') as matches:\n",
    "    for line in matches:\n",
    "        # opens gRNA alignment pack file and loops through lines\n",
    "\n",
    "        line = line.split('\\t')\n",
    "        # split line to extract data\n",
    "        read_name = line[0]\n",
    "        # Only keep the cluster coordinates and run associated info\n",
    "        guide = line[2]\n",
    "        # the guide for which a match was found\n",
    "\n",
    "        if int(line[3]) in range(0, 5):\n",
    "            # the alignment is at the right location in the guide sequence\n",
    "\n",
    "            barcode_match[read_name] = guide\n",
    "            # add read:guide to dict\n",
    "\n",
    "print len(barcode_match.keys())\n",
    "# adds the number of perfect matches found in the pack of reads\n",
    "\n"
   ]
  },
  {
   "cell_type": "code",
   "execution_count": 43,
   "metadata": {
    "collapsed": false
   },
   "outputs": [
    {
     "name": "stdout",
     "output_type": "stream",
     "text": [
      "8992667\n"
     ]
    }
   ],
   "source": [
    "indexes_and_guides = set(index_found_for.keys()) & set(index_found_rev.keys()) & set(barcode_match.keys())\n",
    "print len(indexes_and_guides)\n",
    "# uses sets in python to find the set of reads for which the P1, P2 and gRNA alignments were good"
   ]
  },
  {
   "cell_type": "code",
   "execution_count": 44,
   "metadata": {
    "collapsed": false
   },
   "outputs": [
    {
     "name": "stdout",
     "output_type": "stream",
     "text": [
      "2256\n"
     ]
    }
   ],
   "source": [
    "for read in indexes_and_guides:\n",
    "    # loops through the reads tht passed the filter\n",
    "\n",
    "    for_i = index_found_for[read]\n",
    "    # gets the P1 index of the read\n",
    "\n",
    "    rev_i = index_found_rev[read]\n",
    "    # gets the P2 index of the read\n",
    "    \n",
    "    if tuple((for_i, rev_i)) in correct_libs:\n",
    "\n",
    "        lib = lib_index_by_tuple[tuple((for_i, rev_i))]\n",
    "        # gets the sample to which the read should be assigned based on P1, P2 combination\n",
    "\n",
    "        guide = barcode_match[read]\n",
    "        # gets the guide associated with the read\n",
    "\n",
    "        guide_counts_counter_dict[lib][guide] += 1\n",
    "        # a count for the guide detected in its specific sample\n",
    "        \n",
    "    else:\n",
    "        \n",
    "        chimera += 1 \n",
    "\n",
    "\n",
    "\n",
    "del index_found_for\n",
    "del index_found_rev\n",
    "del barcode_match\n",
    "\n",
    "print chimera"
   ]
  },
  {
   "cell_type": "code",
   "execution_count": 45,
   "metadata": {
    "collapsed": false
   },
   "outputs": [
    {
     "name": "stdout",
     "output_type": "stream",
     "text": [
      "100\n",
      "64107.0\n",
      "1371055.0\n",
      "39803250.0\n"
     ]
    },
    {
     "data": {
      "text/plain": [
       "[<matplotlib.lines.Line2D at 0x7f73ed9cf150>]"
      ]
     },
     "execution_count": 45,
     "metadata": {},
     "output_type": "execute_result"
    },
    {
     "data": {
      "image/png": "[encoded data removed]",
      "text/plain": [
       "<Figure size 600x400 with 1 Axes>"
      ]
     },
     "metadata": {},
     "output_type": "display_data"
    }
   ],
   "source": [
    "counts_DF = pd.DataFrame.from_dict(guide_counts_counter_dict)\n",
    "\n",
    "counts_DF.head(10)\n",
    "\n",
    "\n",
    "print len(counts_DF.columns)\n",
    "\n",
    "print min(counts_DF.sum(axis =0))\n",
    "print max(counts_DF.sum(axis =0))\n",
    "\n",
    "print sum(counts_DF.sum(axis =0))\n",
    "\n",
    "\n",
    "\n",
    "plt.plot(sorted(counts_DF.sum(axis =0)))   \n",
    "    "
   ]
  },
  {
   "cell_type": "code",
   "execution_count": 46,
   "metadata": {
    "collapsed": true
   },
   "outputs": [],
   "source": [
    "counts_DF.head(10)\n",
    "\n",
    "\n",
    "counts_DF.to_csv('./read_count_table_harsh.csv', sep = ',', index_label='Strain')"
   ]
  }
 ],
 "metadata": {
  "kernelspec": {
   "display_name": "Python 2",
   "language": "python",
   "name": "python2"
  },
  "language_info": {
   "codemirror_mode": {
    "name": "ipython",
    "version": 2
   },
   "file_extension": ".py",
   "mimetype": "text/x-python",
   "name": "python",
   "nbconvert_exporter": "python",
   "pygments_lexer": "ipython2",
   "version": "2.7.6"
  }
 },
 "nbformat": 4,
 "nbformat_minor": 1
}
